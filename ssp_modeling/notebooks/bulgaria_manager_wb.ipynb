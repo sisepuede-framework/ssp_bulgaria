{
 "cells": [
  {
   "cell_type": "code",
   "execution_count": 1,
   "id": "2a29eb0a-00ee-494d-9b3d-25da412bf1d5",
   "metadata": {},
   "outputs": [],
   "source": [
    "import copy\n",
    "import datetime as dt\n",
    "import importlib # needed so that we can reload packages\n",
    "import matplotlib.pyplot as plt\n",
    "import os, os.path\n",
    "import numpy as np\n",
    "import pandas as pd\n",
    "import pathlib\n",
    "import sys\n",
    "import time\n",
    "from typing import Union\n",
    "import warnings\n",
    "from datetime import datetime\n",
    "warnings.filterwarnings(\"ignore\")\n",
    "\n",
    "##  IMPORT SISEPUEDE EXAMPLES AND TRANSFORMERS\n",
    "\n",
    "from sisepuede.manager.sisepuede_examples import SISEPUEDEExamples\n",
    "from sisepuede.manager.sisepuede_file_structure import SISEPUEDEFileStructure\n",
    "import sisepuede.core.support_classes as sc\n",
    "import sisepuede.transformers as trf\n",
    "import sisepuede.utilities._plotting as spu\n",
    "import sisepuede.utilities._toolbox as sf"
   ]
  },
  {
   "cell_type": "code",
   "execution_count": 2,
   "id": "49d7c0b6",
   "metadata": {},
   "outputs": [],
   "source": [
    "%load_ext autoreload\n",
    "%autoreload 2"
   ]
  },
  {
   "cell_type": "markdown",
   "id": "f0483f2b",
   "metadata": {},
   "source": [
    "### Initial Set up\n",
    "\n",
    "Make sure to edit the config yaml under croatia/config_files/croatia_config.yaml\n",
    "\n",
    "You can also create a new config yaml\n",
    "\n"
   ]
  },
  {
   "cell_type": "code",
   "execution_count": 3,
   "id": "aebcd791",
   "metadata": {},
   "outputs": [],
   "source": [
    "# Set up dir paths\n",
    "\n",
    "dir_cur = pathlib.Path(os.getcwd())\n",
    "dir_ssp_modeling = dir_cur.parent\n",
    "dir_project = dir_ssp_modeling.parent\n",
    "dir_data = dir_ssp_modeling.joinpath(\"input_data\")\n",
    "dir_out= dir_ssp_modeling.joinpath(\"ssp_run\")\n",
    "dir_scenario_mapping = dir_ssp_modeling.joinpath(\"scenario_mapping\")\n",
    "dir_config = dir_ssp_modeling.joinpath(\"config_files\")\n",
    "dir_transformations = dir_ssp_modeling.joinpath(\"transformations\")\n",
    "dir_misc = dir_ssp_modeling.joinpath(\"misc\")\n",
    "strategies_definitions_file_path = dir_transformations.joinpath(\"strategy_definitions.csv\")\n",
    "strategy_mapping_file_path = dir_misc.joinpath(\"strategy_mapping.yaml\")"
   ]
  },
  {
   "cell_type": "code",
   "execution_count": 4,
   "id": "ff4b912b",
   "metadata": {},
   "outputs": [],
   "source": [
    "# make sure dir_out exists\n",
    "if not dir_out.exists():\n",
    "    dir_out.mkdir(parents=True, exist_ok=True)\n",
    "    "
   ]
  },
  {
   "cell_type": "code",
   "execution_count": 5,
   "id": "be25d2a2",
   "metadata": {},
   "outputs": [
    {
     "data": {
      "text/plain": [
       "PosixPath('/Users/fabianfuentes/Desktop/ssp_bulgaria/ssp_modeling/scenario_mapping')"
      ]
     },
     "execution_count": 5,
     "metadata": {},
     "output_type": "execute_result"
    }
   ],
   "source": [
    "dir_scenario_mapping"
   ]
  },
  {
   "cell_type": "code",
   "execution_count": 6,
   "id": "ac941c9a",
   "metadata": {},
   "outputs": [],
   "source": [
    "from ssp_transformations_handler.GeneralUtils import GeneralUtils\n",
    "from ssp_transformations_handler.TransformationUtils import TransformationYamlProcessor, StrategyCSVHandler\n",
    "\n",
    "# Initialize general utilities\n",
    "g_utils = GeneralUtils()"
   ]
  },
  {
   "cell_type": "code",
   "execution_count": 7,
   "id": "53908ee6",
   "metadata": {},
   "outputs": [
    {
     "name": "stdout",
     "output_type": "stream",
     "text": [
      "Country name:  bulgaria\n",
      "SSP input file name:  BGR_real_data_20250625.csv\n",
      "SSP transformation CW:  ssp_bulgaria_transformation_v0.xlsx\n",
      "Energy model flag:  False\n",
      "Set lndu reallocation factor to zero flag:  True\n"
     ]
    }
   ],
   "source": [
    "# Load config file, double check your parameters are correct\n",
    "\n",
    "yaml_file_path = os.path.join(dir_config, \"bulgaria_config.yaml\")\n",
    "config_params = g_utils.read_yaml(yaml_file_path)\n",
    "\n",
    "country_name = config_params['country_name']\n",
    "ssp_input_file_name = config_params['ssp_input_file_name']\n",
    "ssp_transformation_cw = config_params['ssp_transformation_cw']\n",
    "energy_model_flag = config_params['energy_model_flag']\n",
    "set_lndu_reallocation_factor_to_zero_flag = config_params['set_lndu_reallocation_factor_to_zero']\n",
    "\n",
    "# Print config parameters\n",
    "print(\"Country name: \", country_name)\n",
    "print(\"SSP input file name: \", ssp_input_file_name)\n",
    "print(\"SSP transformation CW: \", ssp_transformation_cw)\n",
    "print(\"Energy model flag: \", energy_model_flag)\n",
    "print(\"Set lndu reallocation factor to zero flag: \", set_lndu_reallocation_factor_to_zero_flag)"
   ]
  },
  {
   "cell_type": "code",
   "execution_count": 8,
   "id": "62c6c558-ba2c-482b-8743-7c46bfb64924",
   "metadata": {},
   "outputs": [],
   "source": [
    "# Set up SSP objects\n",
    "\n",
    "fp_data_base = dir_data.joinpath(ssp_input_file_name)\n",
    "\n",
    "file_struct = SISEPUEDEFileStructure()\n",
    "\n",
    "matt = file_struct.model_attributes\n",
    "regions = sc.Regions(matt)\n",
    "time_periods = sc.TimePeriods(matt)"
   ]
  },
  {
   "cell_type": "markdown",
   "id": "c6275b08",
   "metadata": {},
   "source": [
    "### Making sure our input file has the correct format and correct columns\n",
    "We use an example df with the complete fields and correct format to make sure our file is in the right shape"
   ]
  },
  {
   "cell_type": "code",
   "execution_count": 9,
   "id": "b8a1e26f-7946-4f4f-a3b1-ff398c9fe211",
   "metadata": {},
   "outputs": [],
   "source": [
    "##  BUILD BASE INPUTS\n",
    "df_inputs_raw = pd.read_csv(fp_data_base)\n",
    "\n",
    "# pull example data to fill in gaps\n",
    "examples = SISEPUEDEExamples()\n",
    "df_inputs_example = examples.input_data_frame"
   ]
  },
  {
   "cell_type": "code",
   "execution_count": 10,
   "id": "1b6d85ea",
   "metadata": {},
   "outputs": [
    {
     "data": {
      "text/html": [
       "<div>\n",
       "<style scoped>\n",
       "    .dataframe tbody tr th:only-of-type {\n",
       "        vertical-align: middle;\n",
       "    }\n",
       "\n",
       "    .dataframe tbody tr th {\n",
       "        vertical-align: top;\n",
       "    }\n",
       "\n",
       "    .dataframe thead th {\n",
       "        text-align: right;\n",
       "    }\n",
       "</style>\n",
       "<table border=\"1\" class=\"dataframe\">\n",
       "  <thead>\n",
       "    <tr style=\"text-align: right;\">\n",
       "      <th></th>\n",
       "      <th>region</th>\n",
       "      <th>time_period</th>\n",
       "      <th>avgload_trns_freight_tonne_per_vehicle_aviation</th>\n",
       "      <th>avgload_trns_freight_tonne_per_vehicle_rail_freight</th>\n",
       "      <th>avgload_trns_freight_tonne_per_vehicle_road_heavy_freight</th>\n",
       "      <th>avgload_trns_freight_tonne_per_vehicle_water_borne</th>\n",
       "      <th>avgmass_lvst_animal_buffalo_kg</th>\n",
       "      <th>avgmass_lvst_animal_cattle_dairy_kg</th>\n",
       "      <th>avgmass_lvst_animal_cattle_nondairy_kg</th>\n",
       "      <th>avgmass_lvst_animal_chickens_kg</th>\n",
       "      <th>...</th>\n",
       "      <th>ef_ippu_tonne_cf4_per_tonne_production_electronics</th>\n",
       "      <th>ef_ippu_tonne_cf4_per_tonne_production_metals</th>\n",
       "      <th>ef_ippu_tonne_c3f8_per_tonne_production_chemicals</th>\n",
       "      <th>ef_ippu_tonne_c3f8_per_tonne_production_electronics</th>\n",
       "      <th>ef_ippu_tonne_c4f10_per_mmm_gdp_product_use_ods_other</th>\n",
       "      <th>ef_ippu_tonne_c4f10_per_tonne_production_chemicals</th>\n",
       "      <th>ef_ippu_tonne_c6f14_per_mmm_gdp_product_use_ods_other</th>\n",
       "      <th>ef_ippu_tonne_c6f14_per_tonne_production_chemicals</th>\n",
       "      <th>ef_ippu_tonne_cc4f8_per_tonne_production_chemicals</th>\n",
       "      <th>ef_ippu_tonne_cc4f8_per_tonne_production_electronics</th>\n",
       "    </tr>\n",
       "  </thead>\n",
       "  <tbody>\n",
       "    <tr>\n",
       "      <th>0</th>\n",
       "      <td>costa_rica</td>\n",
       "      <td>0</td>\n",
       "      <td>70.0</td>\n",
       "      <td>2923.0</td>\n",
       "      <td>31.751466</td>\n",
       "      <td>6468.0</td>\n",
       "      <td>322.900664</td>\n",
       "      <td>520.741388</td>\n",
       "      <td>310.599686</td>\n",
       "      <td>1.12759</td>\n",
       "      <td>...</td>\n",
       "      <td>0.000002</td>\n",
       "      <td>4.204879e-07</td>\n",
       "      <td>0.0</td>\n",
       "      <td>1.515048e-07</td>\n",
       "      <td>0.0</td>\n",
       "      <td>0.0</td>\n",
       "      <td>0.0</td>\n",
       "      <td>0.0</td>\n",
       "      <td>0.0</td>\n",
       "      <td>5.669821e-08</td>\n",
       "    </tr>\n",
       "    <tr>\n",
       "      <th>1</th>\n",
       "      <td>costa_rica</td>\n",
       "      <td>1</td>\n",
       "      <td>70.0</td>\n",
       "      <td>2923.0</td>\n",
       "      <td>31.751466</td>\n",
       "      <td>6468.0</td>\n",
       "      <td>322.900664</td>\n",
       "      <td>520.741388</td>\n",
       "      <td>310.599686</td>\n",
       "      <td>1.12759</td>\n",
       "      <td>...</td>\n",
       "      <td>0.000002</td>\n",
       "      <td>2.134675e-07</td>\n",
       "      <td>0.0</td>\n",
       "      <td>1.313925e-07</td>\n",
       "      <td>0.0</td>\n",
       "      <td>0.0</td>\n",
       "      <td>0.0</td>\n",
       "      <td>0.0</td>\n",
       "      <td>0.0</td>\n",
       "      <td>5.185820e-08</td>\n",
       "    </tr>\n",
       "    <tr>\n",
       "      <th>2</th>\n",
       "      <td>costa_rica</td>\n",
       "      <td>2</td>\n",
       "      <td>70.0</td>\n",
       "      <td>2923.0</td>\n",
       "      <td>31.751466</td>\n",
       "      <td>6468.0</td>\n",
       "      <td>322.900664</td>\n",
       "      <td>520.741388</td>\n",
       "      <td>310.599686</td>\n",
       "      <td>1.12759</td>\n",
       "      <td>...</td>\n",
       "      <td>0.000002</td>\n",
       "      <td>1.821067e-07</td>\n",
       "      <td>0.0</td>\n",
       "      <td>1.060066e-07</td>\n",
       "      <td>0.0</td>\n",
       "      <td>0.0</td>\n",
       "      <td>0.0</td>\n",
       "      <td>0.0</td>\n",
       "      <td>0.0</td>\n",
       "      <td>5.269348e-08</td>\n",
       "    </tr>\n",
       "    <tr>\n",
       "      <th>3</th>\n",
       "      <td>costa_rica</td>\n",
       "      <td>3</td>\n",
       "      <td>70.0</td>\n",
       "      <td>2923.0</td>\n",
       "      <td>31.751466</td>\n",
       "      <td>6468.0</td>\n",
       "      <td>322.900664</td>\n",
       "      <td>520.741388</td>\n",
       "      <td>310.599686</td>\n",
       "      <td>1.12759</td>\n",
       "      <td>...</td>\n",
       "      <td>0.000002</td>\n",
       "      <td>2.094712e-07</td>\n",
       "      <td>0.0</td>\n",
       "      <td>1.093024e-07</td>\n",
       "      <td>0.0</td>\n",
       "      <td>0.0</td>\n",
       "      <td>0.0</td>\n",
       "      <td>0.0</td>\n",
       "      <td>0.0</td>\n",
       "      <td>5.500450e-08</td>\n",
       "    </tr>\n",
       "    <tr>\n",
       "      <th>4</th>\n",
       "      <td>costa_rica</td>\n",
       "      <td>4</td>\n",
       "      <td>70.0</td>\n",
       "      <td>2923.0</td>\n",
       "      <td>31.751466</td>\n",
       "      <td>6468.0</td>\n",
       "      <td>322.900664</td>\n",
       "      <td>520.741388</td>\n",
       "      <td>310.599686</td>\n",
       "      <td>1.12759</td>\n",
       "      <td>...</td>\n",
       "      <td>0.000002</td>\n",
       "      <td>3.446161e-07</td>\n",
       "      <td>0.0</td>\n",
       "      <td>1.046451e-07</td>\n",
       "      <td>0.0</td>\n",
       "      <td>0.0</td>\n",
       "      <td>0.0</td>\n",
       "      <td>0.0</td>\n",
       "      <td>0.0</td>\n",
       "      <td>5.266081e-08</td>\n",
       "    </tr>\n",
       "  </tbody>\n",
       "</table>\n",
       "<p>5 rows × 2219 columns</p>\n",
       "</div>"
      ],
      "text/plain": [
       "       region  time_period  avgload_trns_freight_tonne_per_vehicle_aviation  \\\n",
       "0  costa_rica            0                                             70.0   \n",
       "1  costa_rica            1                                             70.0   \n",
       "2  costa_rica            2                                             70.0   \n",
       "3  costa_rica            3                                             70.0   \n",
       "4  costa_rica            4                                             70.0   \n",
       "\n",
       "   avgload_trns_freight_tonne_per_vehicle_rail_freight  \\\n",
       "0                                             2923.0     \n",
       "1                                             2923.0     \n",
       "2                                             2923.0     \n",
       "3                                             2923.0     \n",
       "4                                             2923.0     \n",
       "\n",
       "   avgload_trns_freight_tonne_per_vehicle_road_heavy_freight  \\\n",
       "0                                          31.751466           \n",
       "1                                          31.751466           \n",
       "2                                          31.751466           \n",
       "3                                          31.751466           \n",
       "4                                          31.751466           \n",
       "\n",
       "   avgload_trns_freight_tonne_per_vehicle_water_borne  \\\n",
       "0                                             6468.0    \n",
       "1                                             6468.0    \n",
       "2                                             6468.0    \n",
       "3                                             6468.0    \n",
       "4                                             6468.0    \n",
       "\n",
       "   avgmass_lvst_animal_buffalo_kg  avgmass_lvst_animal_cattle_dairy_kg  \\\n",
       "0                      322.900664                           520.741388   \n",
       "1                      322.900664                           520.741388   \n",
       "2                      322.900664                           520.741388   \n",
       "3                      322.900664                           520.741388   \n",
       "4                      322.900664                           520.741388   \n",
       "\n",
       "   avgmass_lvst_animal_cattle_nondairy_kg  avgmass_lvst_animal_chickens_kg  \\\n",
       "0                              310.599686                          1.12759   \n",
       "1                              310.599686                          1.12759   \n",
       "2                              310.599686                          1.12759   \n",
       "3                              310.599686                          1.12759   \n",
       "4                              310.599686                          1.12759   \n",
       "\n",
       "   ...  ef_ippu_tonne_cf4_per_tonne_production_electronics  \\\n",
       "0  ...                                           0.000002    \n",
       "1  ...                                           0.000002    \n",
       "2  ...                                           0.000002    \n",
       "3  ...                                           0.000002    \n",
       "4  ...                                           0.000002    \n",
       "\n",
       "   ef_ippu_tonne_cf4_per_tonne_production_metals  \\\n",
       "0                                   4.204879e-07   \n",
       "1                                   2.134675e-07   \n",
       "2                                   1.821067e-07   \n",
       "3                                   2.094712e-07   \n",
       "4                                   3.446161e-07   \n",
       "\n",
       "   ef_ippu_tonne_c3f8_per_tonne_production_chemicals  \\\n",
       "0                                                0.0   \n",
       "1                                                0.0   \n",
       "2                                                0.0   \n",
       "3                                                0.0   \n",
       "4                                                0.0   \n",
       "\n",
       "   ef_ippu_tonne_c3f8_per_tonne_production_electronics  \\\n",
       "0                                       1.515048e-07     \n",
       "1                                       1.313925e-07     \n",
       "2                                       1.060066e-07     \n",
       "3                                       1.093024e-07     \n",
       "4                                       1.046451e-07     \n",
       "\n",
       "   ef_ippu_tonne_c4f10_per_mmm_gdp_product_use_ods_other  \\\n",
       "0                                                0.0       \n",
       "1                                                0.0       \n",
       "2                                                0.0       \n",
       "3                                                0.0       \n",
       "4                                                0.0       \n",
       "\n",
       "   ef_ippu_tonne_c4f10_per_tonne_production_chemicals  \\\n",
       "0                                                0.0    \n",
       "1                                                0.0    \n",
       "2                                                0.0    \n",
       "3                                                0.0    \n",
       "4                                                0.0    \n",
       "\n",
       "   ef_ippu_tonne_c6f14_per_mmm_gdp_product_use_ods_other  \\\n",
       "0                                                0.0       \n",
       "1                                                0.0       \n",
       "2                                                0.0       \n",
       "3                                                0.0       \n",
       "4                                                0.0       \n",
       "\n",
       "   ef_ippu_tonne_c6f14_per_tonne_production_chemicals  \\\n",
       "0                                                0.0    \n",
       "1                                                0.0    \n",
       "2                                                0.0    \n",
       "3                                                0.0    \n",
       "4                                                0.0    \n",
       "\n",
       "   ef_ippu_tonne_cc4f8_per_tonne_production_chemicals  \\\n",
       "0                                                0.0    \n",
       "1                                                0.0    \n",
       "2                                                0.0    \n",
       "3                                                0.0    \n",
       "4                                                0.0    \n",
       "\n",
       "   ef_ippu_tonne_cc4f8_per_tonne_production_electronics  \n",
       "0                                       5.669821e-08     \n",
       "1                                       5.185820e-08     \n",
       "2                                       5.269348e-08     \n",
       "3                                       5.500450e-08     \n",
       "4                                       5.266081e-08     \n",
       "\n",
       "[5 rows x 2219 columns]"
      ]
     },
     "execution_count": 10,
     "metadata": {},
     "output_type": "execute_result"
    }
   ],
   "source": [
    "df_inputs_example.head()"
   ]
  },
  {
   "cell_type": "code",
   "execution_count": 11,
   "id": "a98af5c2",
   "metadata": {},
   "outputs": [
    {
     "name": "stdout",
     "output_type": "stream",
     "text": [
      "Columns in df_example but not in df_input: {'ef_trns_mobile_combustion_water_borne_kg_n2o_per_tj_ammonia', 'nemomod_entc_grid_power_constraint_mmm_usd', 'energydensity_gravimetric_enfu_gj_per_tonne_fuel_water', 'nemomod_entc_input_activity_ratio_fuel_production_fp_hydrogen_electrolysis_water', 'nemomod_entc_output_activity_ratio_fuel_production_fp_hydrogen_reformation_ccs_hydrogen', 'cost_enfu_fuel_ammonia_usd_per_tonne', 'nemomod_entc_capital_cost_fp_ammonia_production_mm_usd_per_gw', 'region', 'nemomod_entc_output_activity_ratio_fuel_production_fp_ammonia_production_ammonia', 'nemomod_entc_input_activity_ratio_fuel_production_fp_hydrogen_reformation_ccs_natural_gas', 'strategy_id', 'frac_enfu_fuel_demand_imported_pj_fuel_ammonia', 'frac_trns_fuelmix_water_borne_ammonia', 'nemomod_entc_capital_cost_fp_hydrogen_reformation_ccs_mm_usd_per_gw', 'nemomod_entc_emissions_activity_ratio_scalar_fp_hydrogen_reformation_ccs_co2', 'nemomod_entc_frac_min_share_production_fp_hydrogen_reformation_ccs', 'nemomod_entc_fixed_cost_fp_ammonia_production_mm_usd_per_gw', 'nemomod_entc_emissions_activity_ratio_fuel_production_fp_hydrogen_reformation_ccs_tonne_co2_per_tj', 'nemomod_entc_input_activity_ratio_fuel_production_fp_hydrogen_reformation_ccs_electricity', 'ef_enfu_combustion_tonne_co2_per_tj_fuel_ammonia', 'nemomod_entc_input_activity_ratio_fuel_production_fp_hydrogen_reformation_ccs_oil', 'exports_enfu_pj_fuel_ammonia', 'nemomod_entc_fixed_cost_fp_hydrogen_reformation_ccs_mm_usd_per_gw', 'ef_enfu_stationary_combustion_tonne_ch4_per_tj_fuel_ammonia', 'nemomod_entc_input_activity_ratio_fuel_production_fp_ammonia_production_hydrogen', 'energydensity_gravimetric_enfu_gj_per_tonne_fuel_ammonia', 'ef_enfu_stationary_combustion_tonne_n2o_per_tj_fuel_ammonia', 'nemomod_entc_input_activity_ratio_fuel_production_fp_ammonia_production_electricity'}\n",
      "Columns in df_input but not in df_example: {'nemomod_entc_variable_cost_pp_hydropower_mm_usd_per_gw', 'va_commercial_mmm_usd', 'cost_enfu_fuel_biomass_usd_per_m3', 'nemomod_entc_variable_cost_pp_waste_incineration_mm_usd_per_mwh', 'nemomod_entc_variable_cost_pp_solar_mm_usd_per_mwh', 'demscalar_ippu_recycled_metals', 'demscalar_ippu_recycled_paper', 'nemomod_entc_variable_cost_pp_oil_mm_usd_per_mwh', 'demscalar_ippu_recycled_glass', 'nemomod_entc_variable_cost_pp_ocean_mm_usd_per_gw', 'nemomod_entc_variable_cost_pp_oil_mm_usd_per_gw', 'nemomod_entc_variable_cost_pp_nuclear_mm_usd_per_gw', 'Year', 'va_mining_mmm_usd', 'nemomod_entc_variable_cost_pp_wind_mm_usd_per_gw', 'cost_enfu_fuel_hydrogen_usd_per_tonne', 'nemomod_entc_variable_cost_pp_hydropower_mm_usd_per_mwh', 'nemomod_entc_variable_cost_pp_biomass_mm_usd_per_mwh', 'va_industrial_mmm_usd', 'nemomod_entc_variable_cost_pp_biomass_mm_usd_per_gw', 'demscalar_ippu_recycled_wood', 'demscalar_ippu_recycled_rubber_and_leather', 'va_manufacturing_mmm_usd', 'demscalar_ippu_recycled_plastic', 'iso_code3', 'nemomod_entc_variable_cost_pp_nuclear_mm_usd_per_mwh', 'cost_enfu_fuel_hydrocarbon_gas_liquids_usd_per_tonne', 'nemomod_entc_variable_cost_pp_biogas_mm_usd_per_mwh', 'nemomod_entc_variable_cost_pp_solar_mm_usd_per_gw', 'nemomod_entc_variable_cost_pp_coal_mm_usd_per_mwh', 'nemomod_entc_variable_cost_pp_geothermal_mm_usd_per_gw', 'nemomod_entc_variable_cost_pp_geothermal_mm_usd_per_mwh', 'nemomod_entc_variable_cost_pp_wind_mm_usd_per_mwh', 'pop_lvst_initial_cattle_dairy.1', 'nemomod_entc_variable_cost_pp_waste_incineration_mm_usd_per_gw', 'nemomod_entc_variable_cost_pp_gas_mm_usd_per_mwh', 'cost_enfu_fuel_coal_usd_per_m3', 'nemomod_entc_variable_cost_pp_coal_mm_usd_per_gw', 'nemomod_entc_variable_cost_pp_biogas_mm_usd_per_gw', 'demscalar_ippu_recycled_textiles', 'nemomod_entc_variable_cost_pp_ocean_mm_usd_per_mwh', 'nemomod_entc_variable_cost_pp_gas_mm_usd_per_gw'}\n"
     ]
    }
   ],
   "source": [
    "# Checks if there are any differences in columns between the example df and our df\n",
    "g_utils.compare_dfs(df_inputs_example, df_inputs_raw)\n"
   ]
  },
  {
   "cell_type": "code",
   "execution_count": 12,
   "id": "9e834ca0",
   "metadata": {},
   "outputs": [
    {
     "data": {
      "text/html": [
       "<div>\n",
       "<style scoped>\n",
       "    .dataframe tbody tr th:only-of-type {\n",
       "        vertical-align: middle;\n",
       "    }\n",
       "\n",
       "    .dataframe tbody tr th {\n",
       "        vertical-align: top;\n",
       "    }\n",
       "\n",
       "    .dataframe thead th {\n",
       "        text-align: right;\n",
       "    }\n",
       "</style>\n",
       "<table border=\"1\" class=\"dataframe\">\n",
       "  <thead>\n",
       "    <tr style=\"text-align: right;\">\n",
       "      <th></th>\n",
       "      <th>Year</th>\n",
       "      <th>frac_lvst_mm_sheep_liquid_slurry</th>\n",
       "      <th>frac_lvst_mm_mules_anaerobic_digester</th>\n",
       "      <th>pij_lndu_grasslands_to_grasslands</th>\n",
       "      <th>pij_lndu_forests_mangroves_to_grasslands</th>\n",
       "      <th>frac_agrc_vegetables_and_vines_cl2_wet</th>\n",
       "      <th>frac_lvst_mm_mules_dry_lot</th>\n",
       "      <th>frac_lvst_mm_cattle_dairy_deep_bedding</th>\n",
       "      <th>ef_lndu_conv_wetlands_to_forests_secondary_gg_co2_ha</th>\n",
       "      <th>frac_agrc_pulses_cl2_wet</th>\n",
       "      <th>...</th>\n",
       "      <th>nemomod_entc_input_activity_ratio_fuel_production_fp_hydrogen_electrolysis_water</th>\n",
       "      <th>nemomod_entc_input_activity_ratio_fuel_production_fp_hydrogen_reformation_ccs_electricity</th>\n",
       "      <th>energydensity_gravimetric_enfu_gj_per_tonne_fuel_ammonia</th>\n",
       "      <th>energydensity_gravimetric_enfu_gj_per_tonne_fuel_water</th>\n",
       "      <th>frac_trns_fuelmix_water_borne_ammonia</th>\n",
       "      <th>nemomod_entc_output_activity_ratio_fuel_production_fp_ammonia_production_ammonia</th>\n",
       "      <th>nemomod_entc_output_activity_ratio_fuel_production_fp_hydrogen_reformation_ccs_hydrogen</th>\n",
       "      <th>nemomod_entc_frac_min_share_production_fp_hydrogen_reformation_ccs</th>\n",
       "      <th>nemomod_entc_input_activity_ratio_fuel_production_fp_hydrogen_reformation_ccs_natural_gas</th>\n",
       "      <th>nemomod_entc_input_activity_ratio_fuel_production_fp_hydrogen_reformation_ccs_oil</th>\n",
       "    </tr>\n",
       "  </thead>\n",
       "  <tbody>\n",
       "    <tr>\n",
       "      <th>0</th>\n",
       "      <td>2015</td>\n",
       "      <td>0.0</td>\n",
       "      <td>0.0</td>\n",
       "      <td>0.993578</td>\n",
       "      <td>0.001286</td>\n",
       "      <td>0.914153</td>\n",
       "      <td>0.0</td>\n",
       "      <td>0.0</td>\n",
       "      <td>0.0</td>\n",
       "      <td>0.914153</td>\n",
       "      <td>...</td>\n",
       "      <td>0.000004</td>\n",
       "      <td>0</td>\n",
       "      <td>18.6</td>\n",
       "      <td>0.00005</td>\n",
       "      <td>0.0</td>\n",
       "      <td>1</td>\n",
       "      <td>1</td>\n",
       "      <td>0.0</td>\n",
       "      <td>1.315</td>\n",
       "      <td>0.0</td>\n",
       "    </tr>\n",
       "    <tr>\n",
       "      <th>1</th>\n",
       "      <td>2016</td>\n",
       "      <td>0.0</td>\n",
       "      <td>0.0</td>\n",
       "      <td>0.993553</td>\n",
       "      <td>0.001509</td>\n",
       "      <td>0.914153</td>\n",
       "      <td>0.0</td>\n",
       "      <td>0.0</td>\n",
       "      <td>0.0</td>\n",
       "      <td>0.914153</td>\n",
       "      <td>...</td>\n",
       "      <td>0.000004</td>\n",
       "      <td>0</td>\n",
       "      <td>18.6</td>\n",
       "      <td>0.00005</td>\n",
       "      <td>0.0</td>\n",
       "      <td>1</td>\n",
       "      <td>1</td>\n",
       "      <td>0.0</td>\n",
       "      <td>1.315</td>\n",
       "      <td>0.0</td>\n",
       "    </tr>\n",
       "    <tr>\n",
       "      <th>2</th>\n",
       "      <td>2017</td>\n",
       "      <td>0.0</td>\n",
       "      <td>0.0</td>\n",
       "      <td>0.999990</td>\n",
       "      <td>0.001220</td>\n",
       "      <td>0.914153</td>\n",
       "      <td>0.0</td>\n",
       "      <td>0.0</td>\n",
       "      <td>0.0</td>\n",
       "      <td>0.914153</td>\n",
       "      <td>...</td>\n",
       "      <td>0.000004</td>\n",
       "      <td>0</td>\n",
       "      <td>18.6</td>\n",
       "      <td>0.00005</td>\n",
       "      <td>0.0</td>\n",
       "      <td>1</td>\n",
       "      <td>1</td>\n",
       "      <td>0.0</td>\n",
       "      <td>1.315</td>\n",
       "      <td>0.0</td>\n",
       "    </tr>\n",
       "    <tr>\n",
       "      <th>3</th>\n",
       "      <td>2018</td>\n",
       "      <td>0.0</td>\n",
       "      <td>0.0</td>\n",
       "      <td>0.990001</td>\n",
       "      <td>0.001221</td>\n",
       "      <td>0.914153</td>\n",
       "      <td>0.0</td>\n",
       "      <td>0.0</td>\n",
       "      <td>0.0</td>\n",
       "      <td>0.914153</td>\n",
       "      <td>...</td>\n",
       "      <td>0.000004</td>\n",
       "      <td>0</td>\n",
       "      <td>18.6</td>\n",
       "      <td>0.00005</td>\n",
       "      <td>0.0</td>\n",
       "      <td>1</td>\n",
       "      <td>1</td>\n",
       "      <td>0.0</td>\n",
       "      <td>1.315</td>\n",
       "      <td>0.0</td>\n",
       "    </tr>\n",
       "    <tr>\n",
       "      <th>4</th>\n",
       "      <td>2019</td>\n",
       "      <td>0.0</td>\n",
       "      <td>0.0</td>\n",
       "      <td>0.990470</td>\n",
       "      <td>0.001303</td>\n",
       "      <td>0.914153</td>\n",
       "      <td>0.0</td>\n",
       "      <td>0.0</td>\n",
       "      <td>0.0</td>\n",
       "      <td>0.914153</td>\n",
       "      <td>...</td>\n",
       "      <td>0.000004</td>\n",
       "      <td>0</td>\n",
       "      <td>18.6</td>\n",
       "      <td>0.00005</td>\n",
       "      <td>0.0</td>\n",
       "      <td>1</td>\n",
       "      <td>1</td>\n",
       "      <td>0.0</td>\n",
       "      <td>1.315</td>\n",
       "      <td>0.0</td>\n",
       "    </tr>\n",
       "  </tbody>\n",
       "</table>\n",
       "<p>5 rows × 2260 columns</p>\n",
       "</div>"
      ],
      "text/plain": [
       "   Year  frac_lvst_mm_sheep_liquid_slurry  \\\n",
       "0  2015                               0.0   \n",
       "1  2016                               0.0   \n",
       "2  2017                               0.0   \n",
       "3  2018                               0.0   \n",
       "4  2019                               0.0   \n",
       "\n",
       "   frac_lvst_mm_mules_anaerobic_digester  pij_lndu_grasslands_to_grasslands  \\\n",
       "0                                    0.0                           0.993578   \n",
       "1                                    0.0                           0.993553   \n",
       "2                                    0.0                           0.999990   \n",
       "3                                    0.0                           0.990001   \n",
       "4                                    0.0                           0.990470   \n",
       "\n",
       "   pij_lndu_forests_mangroves_to_grasslands  \\\n",
       "0                                  0.001286   \n",
       "1                                  0.001509   \n",
       "2                                  0.001220   \n",
       "3                                  0.001221   \n",
       "4                                  0.001303   \n",
       "\n",
       "   frac_agrc_vegetables_and_vines_cl2_wet  frac_lvst_mm_mules_dry_lot  \\\n",
       "0                                0.914153                         0.0   \n",
       "1                                0.914153                         0.0   \n",
       "2                                0.914153                         0.0   \n",
       "3                                0.914153                         0.0   \n",
       "4                                0.914153                         0.0   \n",
       "\n",
       "   frac_lvst_mm_cattle_dairy_deep_bedding  \\\n",
       "0                                     0.0   \n",
       "1                                     0.0   \n",
       "2                                     0.0   \n",
       "3                                     0.0   \n",
       "4                                     0.0   \n",
       "\n",
       "   ef_lndu_conv_wetlands_to_forests_secondary_gg_co2_ha  \\\n",
       "0                                                0.0      \n",
       "1                                                0.0      \n",
       "2                                                0.0      \n",
       "3                                                0.0      \n",
       "4                                                0.0      \n",
       "\n",
       "   frac_agrc_pulses_cl2_wet  ...  \\\n",
       "0                  0.914153  ...   \n",
       "1                  0.914153  ...   \n",
       "2                  0.914153  ...   \n",
       "3                  0.914153  ...   \n",
       "4                  0.914153  ...   \n",
       "\n",
       "   nemomod_entc_input_activity_ratio_fuel_production_fp_hydrogen_electrolysis_water  \\\n",
       "0                                           0.000004                                  \n",
       "1                                           0.000004                                  \n",
       "2                                           0.000004                                  \n",
       "3                                           0.000004                                  \n",
       "4                                           0.000004                                  \n",
       "\n",
       "   nemomod_entc_input_activity_ratio_fuel_production_fp_hydrogen_reformation_ccs_electricity  \\\n",
       "0                                                  0                                           \n",
       "1                                                  0                                           \n",
       "2                                                  0                                           \n",
       "3                                                  0                                           \n",
       "4                                                  0                                           \n",
       "\n",
       "   energydensity_gravimetric_enfu_gj_per_tonne_fuel_ammonia  \\\n",
       "0                                               18.6          \n",
       "1                                               18.6          \n",
       "2                                               18.6          \n",
       "3                                               18.6          \n",
       "4                                               18.6          \n",
       "\n",
       "   energydensity_gravimetric_enfu_gj_per_tonne_fuel_water  \\\n",
       "0                                            0.00005        \n",
       "1                                            0.00005        \n",
       "2                                            0.00005        \n",
       "3                                            0.00005        \n",
       "4                                            0.00005        \n",
       "\n",
       "   frac_trns_fuelmix_water_borne_ammonia  \\\n",
       "0                                    0.0   \n",
       "1                                    0.0   \n",
       "2                                    0.0   \n",
       "3                                    0.0   \n",
       "4                                    0.0   \n",
       "\n",
       "   nemomod_entc_output_activity_ratio_fuel_production_fp_ammonia_production_ammonia  \\\n",
       "0                                                  1                                  \n",
       "1                                                  1                                  \n",
       "2                                                  1                                  \n",
       "3                                                  1                                  \n",
       "4                                                  1                                  \n",
       "\n",
       "   nemomod_entc_output_activity_ratio_fuel_production_fp_hydrogen_reformation_ccs_hydrogen  \\\n",
       "0                                                  1                                         \n",
       "1                                                  1                                         \n",
       "2                                                  1                                         \n",
       "3                                                  1                                         \n",
       "4                                                  1                                         \n",
       "\n",
       "   nemomod_entc_frac_min_share_production_fp_hydrogen_reformation_ccs  \\\n",
       "0                                                0.0                    \n",
       "1                                                0.0                    \n",
       "2                                                0.0                    \n",
       "3                                                0.0                    \n",
       "4                                                0.0                    \n",
       "\n",
       "   nemomod_entc_input_activity_ratio_fuel_production_fp_hydrogen_reformation_ccs_natural_gas  \\\n",
       "0                                              1.315                                           \n",
       "1                                              1.315                                           \n",
       "2                                              1.315                                           \n",
       "3                                              1.315                                           \n",
       "4                                              1.315                                           \n",
       "\n",
       "   nemomod_entc_input_activity_ratio_fuel_production_fp_hydrogen_reformation_ccs_oil  \n",
       "0                                                0.0                                  \n",
       "1                                                0.0                                  \n",
       "2                                                0.0                                  \n",
       "3                                                0.0                                  \n",
       "4                                                0.0                                  \n",
       "\n",
       "[5 rows x 2260 columns]"
      ]
     },
     "execution_count": 12,
     "metadata": {},
     "output_type": "execute_result"
    }
   ],
   "source": [
    "# Fixes differences and makes sure that our df is in the correct format.\n",
    "# Note: Edit this if you need more changes in your df\n",
    "\n",
    "df_inputs_raw = df_inputs_raw.rename(columns={'period':'time_period'})\n",
    "df_inputs_raw_complete = g_utils.add_missing_cols(df_inputs_example, df_inputs_raw.copy())\n",
    "df_inputs_raw_complete = df_inputs_raw_complete.drop(columns='iso_code3', errors='ignore')\n",
    "df_inputs_raw_complete.head()"
   ]
  },
  {
   "cell_type": "code",
   "execution_count": 13,
   "id": "f177e9dd",
   "metadata": {},
   "outputs": [
    {
     "name": "stdout",
     "output_type": "stream",
     "text": [
      "Columns in df_example but not in df_input: set()\n",
      "Columns in df_input but not in df_example: {'nemomod_entc_variable_cost_pp_hydropower_mm_usd_per_gw', 'va_commercial_mmm_usd', 'cost_enfu_fuel_biomass_usd_per_m3', 'nemomod_entc_variable_cost_pp_waste_incineration_mm_usd_per_mwh', 'nemomod_entc_variable_cost_pp_solar_mm_usd_per_mwh', 'demscalar_ippu_recycled_metals', 'demscalar_ippu_recycled_paper', 'nemomod_entc_variable_cost_pp_oil_mm_usd_per_mwh', 'demscalar_ippu_recycled_glass', 'nemomod_entc_variable_cost_pp_ocean_mm_usd_per_gw', 'nemomod_entc_variable_cost_pp_oil_mm_usd_per_gw', 'nemomod_entc_variable_cost_pp_nuclear_mm_usd_per_gw', 'Year', 'va_mining_mmm_usd', 'nemomod_entc_variable_cost_pp_wind_mm_usd_per_gw', 'cost_enfu_fuel_hydrogen_usd_per_tonne', 'nemomod_entc_variable_cost_pp_hydropower_mm_usd_per_mwh', 'nemomod_entc_variable_cost_pp_biomass_mm_usd_per_mwh', 'va_industrial_mmm_usd', 'nemomod_entc_variable_cost_pp_biomass_mm_usd_per_gw', 'demscalar_ippu_recycled_wood', 'demscalar_ippu_recycled_rubber_and_leather', 'va_manufacturing_mmm_usd', 'demscalar_ippu_recycled_plastic', 'nemomod_entc_variable_cost_pp_nuclear_mm_usd_per_mwh', 'cost_enfu_fuel_hydrocarbon_gas_liquids_usd_per_tonne', 'nemomod_entc_variable_cost_pp_biogas_mm_usd_per_mwh', 'nemomod_entc_variable_cost_pp_solar_mm_usd_per_gw', 'nemomod_entc_variable_cost_pp_coal_mm_usd_per_mwh', 'nemomod_entc_variable_cost_pp_geothermal_mm_usd_per_gw', 'nemomod_entc_variable_cost_pp_geothermal_mm_usd_per_mwh', 'nemomod_entc_variable_cost_pp_wind_mm_usd_per_mwh', 'pop_lvst_initial_cattle_dairy.1', 'nemomod_entc_variable_cost_pp_waste_incineration_mm_usd_per_gw', 'nemomod_entc_variable_cost_pp_gas_mm_usd_per_mwh', 'cost_enfu_fuel_coal_usd_per_m3', 'nemomod_entc_variable_cost_pp_coal_mm_usd_per_gw', 'nemomod_entc_variable_cost_pp_biogas_mm_usd_per_gw', 'demscalar_ippu_recycled_textiles', 'nemomod_entc_variable_cost_pp_ocean_mm_usd_per_mwh', 'nemomod_entc_variable_cost_pp_gas_mm_usd_per_gw'}\n"
     ]
    }
   ],
   "source": [
    "# Double checking that our df is in the correct shape (Empty sets should be printed to make sure everything is Ok!)\n",
    "g_utils.compare_dfs(df_inputs_example, df_inputs_raw_complete)"
   ]
  },
  {
   "cell_type": "code",
   "execution_count": 14,
   "id": "fae72b5a",
   "metadata": {},
   "outputs": [
    {
     "name": "stdout",
     "output_type": "stream",
     "text": [
      "[]\n"
     ]
    }
   ],
   "source": [
    "# Checking if there are any columns with null values in it\n",
    "columns_with_na = df_inputs_raw_complete.columns[df_inputs_raw_complete.isna().any()].tolist()\n",
    "\n",
    "print(columns_with_na)"
   ]
  },
  {
   "cell_type": "code",
   "execution_count": 15,
   "id": "fa560057",
   "metadata": {},
   "outputs": [
    {
     "data": {
      "text/plain": [
       "0    costa_rica\n",
       "1    costa_rica\n",
       "2    costa_rica\n",
       "3    costa_rica\n",
       "4    costa_rica\n",
       "Name: region, dtype: object"
      ]
     },
     "execution_count": 15,
     "metadata": {},
     "output_type": "execute_result"
    }
   ],
   "source": [
    "# Checking region to avoid copy errors\n",
    "df_inputs_raw_complete['region'].head()"
   ]
  },
  {
   "cell_type": "code",
   "execution_count": 16,
   "id": "27d4bfa6",
   "metadata": {},
   "outputs": [
    {
     "data": {
      "text/plain": [
       "0    bulgaria\n",
       "1    bulgaria\n",
       "2    bulgaria\n",
       "3    bulgaria\n",
       "4    bulgaria\n",
       "Name: region, dtype: object"
      ]
     },
     "execution_count": 16,
     "metadata": {},
     "output_type": "execute_result"
    }
   ],
   "source": [
    "# Set region to country name\n",
    "df_inputs_raw_complete['region'] = country_name\n",
    "df_inputs_raw_complete['region'].head()"
   ]
  },
  {
   "cell_type": "markdown",
   "id": "c6910e45",
   "metadata": {},
   "source": [
    "## Let's Modify the LNDU Reallocation factor"
   ]
  },
  {
   "cell_type": "code",
   "execution_count": 17,
   "id": "bee4560b",
   "metadata": {},
   "outputs": [
    {
     "data": {
      "text/plain": [
       "0.0"
      ]
     },
     "execution_count": 17,
     "metadata": {},
     "output_type": "execute_result"
    }
   ],
   "source": [
    "if set_lndu_reallocation_factor_to_zero_flag:\n",
    "    df_inputs_raw_complete['lndu_reallocation_factor'] = 0.0\n",
    "\n",
    "df_inputs_raw_complete['lndu_reallocation_factor'].mean()"
   ]
  },
  {
   "cell_type": "markdown",
   "id": "91491c34-78de-4bf9-bed3-3d69613bace7",
   "metadata": {},
   "source": [
    "#  Let's try building transformations using this\n"
   ]
  },
  {
   "cell_type": "code",
   "execution_count": 18,
   "id": "8f21339f-7e93-4123-aa07-8a12f0316756",
   "metadata": {},
   "outputs": [],
   "source": [
    "transformers = trf.transformers.Transformers(\n",
    "    {},\n",
    "    df_input = df_inputs_raw_complete,\n",
    ")"
   ]
  },
  {
   "cell_type": "markdown",
   "id": "d93521f1-0fa0-4f09-9b6e-def5662df3d8",
   "metadata": {},
   "source": [
    "##  Instantiate some transformations. Make sure to run this cell to create the transformations folder for the first time or if you wish to overwrite"
   ]
  },
  {
   "cell_type": "code",
   "execution_count": 19,
   "id": "e85aa9b2-412c-44f7-b75f-3bc486202843",
   "metadata": {},
   "outputs": [
    {
     "name": "stdout",
     "output_type": "stream",
     "text": [
      "Directory /Users/fabianfuentes/Desktop/ssp_bulgaria/ssp_modeling/transformations already exists. Skipping instantiation.\n"
     ]
    }
   ],
   "source": [
    "# set an ouput path and instantiate\n",
    "if not dir_transformations.exists():\n",
    "    trf.instantiate_default_strategy_directory(\n",
    "        transformers,\n",
    "        dir_transformations,\n",
    "    )\n",
    "else:\n",
    "    print(f\"Directory {dir_transformations} already exists. Skipping instantiation.\")\n"
   ]
  },
  {
   "cell_type": "markdown",
   "id": "14522780-2f45-4402-8889-365f1d319303",
   "metadata": {},
   "source": [
    "##  --HERE, CUSTOMIZE YOUR TRANSFORMATIONS AND STRATEGIES--"
   ]
  },
  {
   "cell_type": "markdown",
   "id": "03361640",
   "metadata": {},
   "source": [
    "### Customizing transformations and strategies files using TransformationUtils.py classes"
   ]
  },
  {
   "cell_type": "code",
   "execution_count": 20,
   "id": "cd47d570",
   "metadata": {},
   "outputs": [
    {
     "name": "stdout",
     "output_type": "stream",
     "text": [
      "/Users/fabianfuentes/Desktop/ssp_bulgaria/ssp_modeling/scenario_mapping/ssp_bulgaria_transformation_v0.xlsx\n"
     ]
    }
   ],
   "source": [
    "# Generate new transformation files based on the excel mapping file. \n",
    "# Make sure to have the most updated format for the excel file, check the one used in this notebook for reference.\n",
    "\n",
    "cw_file_path = os.path.join(dir_scenario_mapping, ssp_transformation_cw)\n",
    "print(cw_file_path)\n",
    "excel_yaml_handler = TransformationYamlProcessor(scenario_mapping_excel_path=cw_file_path, yaml_dir_path=dir_transformations)"
   ]
  },
  {
   "cell_type": "code",
   "execution_count": 21,
   "id": "ddac9676",
   "metadata": {},
   "outputs": [
    {
     "name": "stdout",
     "output_type": "stream",
     "text": [
      "YAML file transformation_agrc_inc_conservation_agriculture.yaml already exist for strategy strategy_LEP. Please check it manually.\n",
      "YAML file transformation_lsmm_inc_management_other.yaml already exist for strategy strategy_LEP. Please check it manually.\n",
      "YAML file transformation_lvst_dec_enteric_fermentation.yaml already exist for strategy strategy_LEP. Please check it manually.\n",
      "YAML file transformation_pflo_inc_ind_ccs.yaml already exist for strategy strategy_LEP. Please check it manually.\n",
      "YAML file transformation_trns_shift_mode_regional.yaml already exist for strategy strategy_LEP. Please check it manually.\n",
      "YAML file transformation_waso_inc_anaerobic_and_compost.yaml already exist for strategy strategy_LEP. Please check it manually.\n"
     ]
    }
   ],
   "source": [
    "# This creates transformation yaml files for each strategy in the excel file\n",
    "excel_yaml_handler.process_yaml_files()"
   ]
  },
  {
   "cell_type": "code",
   "execution_count": 22,
   "id": "d42f66a2",
   "metadata": {},
   "outputs": [
    {
     "data": {
      "text/plain": [
       "{'strategy_LEP': ['TX:AGRC:DEC_CH4_RICE_STRATEGY_LEP',\n",
       "  'TX:AGRC:DEC_EXPORTS_STRATEGY_LEP',\n",
       "  'TX:AGRC:DEC_LOSSES_SUPPLY_CHAIN_STRATEGY_LEP',\n",
       "  'TX:AGRC:INC_CONSERVATION_AGRICULTURE_STRATEGY_LEP',\n",
       "  'TX:AGRC:INC_PRODUCTIVITY_STRATEGY_LEP',\n",
       "  'TX:ENTC:DEC_LOSSES_STRATEGY_LEP',\n",
       "  'TX:ENTC:TARGET_CLEAN_HYDROGEN_STRATEGY_LEP',\n",
       "  'TX:ENTC:TARGET_RENEWABLE_ELEC_STRATEGY_LEP',\n",
       "  'TX:FGTV:DEC_LEAKS_STRATEGY_LEP',\n",
       "  'TX:INEN:INC_EFFICIENCY_ENERGY_STRATEGY_LEP',\n",
       "  'TX:INEN:INC_EFFICIENCY_PRODUCTION_STRATEGY_LEP',\n",
       "  'TX:IPPU:DEC_CLINKER_STRATEGY_LEP',\n",
       "  'TX:IPPU:DEC_HFCS_STRATEGY_LEP',\n",
       "  'TX:IPPU:DEC_N2O_STRATEGY_LEP',\n",
       "  'TX:IPPU:DEC_OTHER_FCS_STRATEGY_LEP',\n",
       "  'TX:IPPU:DEC_PFCS_STRATEGY_LEP',\n",
       "  'TX:LNDU:DEC_DEFORESTATION_STRATEGY_LEP',\n",
       "  'TX:LNDU:DEC_SOC_LOSS_PASTURES_STRATEGY_LEP',\n",
       "  'TX:LNDU:INC_SILVOPASTURE_STRATEGY_LEP',\n",
       "  'TX:LSMM:INC_CAPTURE_BIOGAS_STRATEGY_LEP',\n",
       "  'TX:LSMM:INC_MANAGEMENT_OTHER_STRATEGY_LEP',\n",
       "  'TX:LVST:DEC_ENTERIC_FERMENTATION_STRATEGY_LEP',\n",
       "  'TX:LVST:DEC_EXPORTS_STRATEGY_LEP',\n",
       "  'TX:LVST:INC_PRODUCTIVITY_STRATEGY_LEP',\n",
       "  'TX:PFLO:INC_IND_CCS_STRATEGY_LEP',\n",
       "  'TX:SCOE:DEC_DEMAND_HEAT_STRATEGY_LEP',\n",
       "  'TX:SCOE:INC_EFFICIENCY_APPLIANCE_STRATEGY_LEP',\n",
       "  'TX:SCOE:SHIFT_FUEL_HEAT_STRATEGY_LEP',\n",
       "  'TX:SOIL:DEC_LIME_APPLIED_STRATEGY_LEP',\n",
       "  'TX:SOIL:DEC_N_APPLIED_STRATEGY_LEP',\n",
       "  'TX:TRNS:INC_EFFICIENCY_ELECTRIC_STRATEGY_LEP',\n",
       "  'TX:TRNS:INC_EFFICIENCY_NON_ELECTRIC_STRATEGY_LEP',\n",
       "  'TX:TRNS:SHIFT_FUEL_LIGHT_DUTY_STRATEGY_LEP',\n",
       "  'TX:TRNS:SHIFT_FUEL_MARITIME_STRATEGY_LEP',\n",
       "  'TX:TRNS:SHIFT_FUEL_MEDIUM_DUTY_STRATEGY_LEP',\n",
       "  'TX:TRNS:SHIFT_FUEL_RAIL_STRATEGY_LEP',\n",
       "  'TX:TRNS:SHIFT_MODE_FREIGHT_STRATEGY_LEP',\n",
       "  'TX:TRNS:SHIFT_MODE_REGIONAL_STRATEGY_LEP',\n",
       "  'TX:TRWW:INC_CAPTURE_BIOGAS_STRATEGY_LEP',\n",
       "  'TX:TRWW:INC_COMPLIANCE_SEPTIC_STRATEGY_LEP',\n",
       "  'TX:WASO:DEC_CONSUMER_FOOD_WASTE_STRATEGY_LEP',\n",
       "  'TX:WASO:INC_ANAEROBIC_AND_COMPOST_STRATEGY_LEP',\n",
       "  'TX:WASO:INC_CAPTURE_BIOGAS_STRATEGY_LEP',\n",
       "  'TX:WASO:INC_ENERGY_FROM_BIOGAS_STRATEGY_LEP',\n",
       "  'TX:WASO:INC_ENERGY_FROM_INCINERATION_STRATEGY_LEP',\n",
       "  'TX:WASO:INC_LANDFILLING_STRATEGY_LEP']}"
      ]
     },
     "execution_count": 22,
     "metadata": {},
     "output_type": "execute_result"
    }
   ],
   "source": [
    "# Load the transformations per strategy dictionary so we can pass it to the strategy handler\n",
    "# You can also check here if the transformations in each strategy are correct\n",
    "transformation_per_strategy_dict = excel_yaml_handler.get_transformations_per_strategy_dict()\n",
    "transformation_per_strategy_dict"
   ]
  },
  {
   "cell_type": "code",
   "execution_count": 23,
   "id": "958fcda4",
   "metadata": {},
   "outputs": [
    {
     "data": {
      "text/plain": [
       "dict_keys(['strategy_LEP'])"
      ]
     },
     "execution_count": 23,
     "metadata": {},
     "output_type": "execute_result"
    }
   ],
   "source": [
    "transformation_per_strategy_dict.keys()"
   ]
  },
  {
   "cell_type": "markdown",
   "id": "cb689de1",
   "metadata": {},
   "source": [
    "### Creating new strategies\n",
    "- You can create new strategies from scratch.\n",
    "- You can also update existing ones."
   ]
  },
  {
   "cell_type": "code",
   "execution_count": 24,
   "id": "ea277ea6",
   "metadata": {},
   "outputs": [
    {
     "name": "stdout",
     "output_type": "stream",
     "text": [
      "INFO: Strategy code PFLO:LEP already exists in the strategy definitions. Strategy will be updated...\n",
      "Updated row with strategy_code PFLO:LEP\n"
     ]
    }
   ],
   "source": [
    "# Creating new strategies by updating the strategy_definitions file.\n",
    "# You can edit this to add yours, as many as you want.\n",
    "csv_handler = StrategyCSVHandler(strategies_definitions_file_path, dir_transformations, strategy_mapping_file_path, transformation_per_strategy_dict)\n",
    "\n",
    "csv_handler.add_strategy(strategy_group='PFLO', description='Lower Emissions Pathway', yaml_file_suffix='LEP')"
   ]
  },
  {
   "cell_type": "code",
   "execution_count": 25,
   "id": "57bd1a2f-4f3e-4c78-b9a6-b00446ee44ad",
   "metadata": {},
   "outputs": [],
   "source": [
    "# then, you can load this back in after modifying (play around with it)\n",
    "transformations = trf.Transformations(\n",
    "    dir_transformations,\n",
    "    transformers = transformers,\n",
    ")\n",
    "tab = transformations.attribute_transformation.table"
   ]
  },
  {
   "cell_type": "code",
   "execution_count": 26,
   "id": "cf8763ef",
   "metadata": {},
   "outputs": [],
   "source": [
    "# Set up the strategy codes you wish to run in ssp\n",
    "strategies_to_run = [0,6003]"
   ]
  },
  {
   "cell_type": "markdown",
   "id": "adaeedd1",
   "metadata": {},
   "source": [
    "## Manual modification YAML\n",
    "\n",
    "\n",
    "### TX:AGRC:INC_CONSERVATION_AGRICULTURE"
   ]
  },
  {
   "cell_type": "code",
   "execution_count": 27,
   "id": "d37f8475",
   "metadata": {},
   "outputs": [],
   "source": [
    "file_path = os.path.join(dir_transformations, 'transformation_agrc_inc_conservation_agriculture_strategy_LEP.yaml')\n",
    "lines = []\n",
    "\n",
    "with open(file_path, 'r') as file:\n",
    "    for line in file:\n",
    "        if 'magnitude_burned:' in line:\n",
    "            lines.append('  magnitude_burned: 0.8\\n')\n",
    "        elif 'magnitude_removed:' in line:\n",
    "            lines.append('  magnitude_removed: 0.8\\n')\n",
    "        else:\n",
    "            lines.append(line)\n",
    "\n",
    "with open(file_path, 'w') as file:\n",
    "    file.writelines(lines)"
   ]
  },
  {
   "cell_type": "markdown",
   "id": "5b7c7b74",
   "metadata": {},
   "source": [
    "### We finished adding new transformation files and strategies so lets load them back"
   ]
  },
  {
   "cell_type": "code",
   "execution_count": 28,
   "id": "d20cd07a-feb1-4b4c-a755-43d0f639e3c7",
   "metadata": {},
   "outputs": [
    {
     "name": "stdout",
     "output_type": "stream",
     "text": [
      "Strategies defined at /Users/fabianfuentes/Desktop/ssp_bulgaria/ssp_modeling/transformations initialized in 1.7 seconds\n"
     ]
    }
   ],
   "source": [
    "#  build the strategies -- will export to path\n",
    "t0 = time.time()\n",
    "strategies = trf.Strategies(\n",
    "    transformations,\n",
    "    export_path = \"transformations\",\n",
    "    prebuild = True,\n",
    ")\n",
    "\n",
    "t_elapse = sf.get_time_elapsed(t0)\n",
    "print(f\"Strategies defined at {strategies.transformations.dir_init} initialized in {t_elapse} seconds\")"
   ]
  },
  {
   "cell_type": "code",
   "execution_count": 29,
   "id": "937acf95-47c5-42d2-bec4-1960ca8bb3b1",
   "metadata": {},
   "outputs": [
    {
     "data": {
      "text/html": [
       "<div>\n",
       "<style scoped>\n",
       "    .dataframe tbody tr th:only-of-type {\n",
       "        vertical-align: middle;\n",
       "    }\n",
       "\n",
       "    .dataframe tbody tr th {\n",
       "        vertical-align: top;\n",
       "    }\n",
       "\n",
       "    .dataframe thead th {\n",
       "        text-align: right;\n",
       "    }\n",
       "</style>\n",
       "<table border=\"1\" class=\"dataframe\">\n",
       "  <thead>\n",
       "    <tr style=\"text-align: right;\">\n",
       "      <th></th>\n",
       "      <th>strategy_id</th>\n",
       "      <th>strategy_code</th>\n",
       "      <th>strategy</th>\n",
       "      <th>description</th>\n",
       "      <th>transformation_specification</th>\n",
       "      <th>baseline_strategy_id</th>\n",
       "    </tr>\n",
       "  </thead>\n",
       "  <tbody>\n",
       "    <tr>\n",
       "      <th>0</th>\n",
       "      <td>0</td>\n",
       "      <td>BASE</td>\n",
       "      <td>Strategy TX:BASE</td>\n",
       "      <td>NaN</td>\n",
       "      <td>TX:BASE</td>\n",
       "      <td>1</td>\n",
       "    </tr>\n",
       "    <tr>\n",
       "      <th>1</th>\n",
       "      <td>1000</td>\n",
       "      <td>AGRC:DEC_CH4_RICE</td>\n",
       "      <td>Singleton - Default Value - AGRC: Improve rice...</td>\n",
       "      <td>NaN</td>\n",
       "      <td>TX:AGRC:DEC_CH4_RICE</td>\n",
       "      <td>0</td>\n",
       "    </tr>\n",
       "    <tr>\n",
       "      <th>2</th>\n",
       "      <td>1001</td>\n",
       "      <td>AGRC:DEC_EXPORTS</td>\n",
       "      <td>Singleton - Default Value - AGRC: Decrease Exp...</td>\n",
       "      <td>NaN</td>\n",
       "      <td>TX:AGRC:DEC_EXPORTS</td>\n",
       "      <td>0</td>\n",
       "    </tr>\n",
       "    <tr>\n",
       "      <th>3</th>\n",
       "      <td>1002</td>\n",
       "      <td>AGRC:DEC_LOSSES_SUPPLY_CHAIN</td>\n",
       "      <td>Singleton - Default Value - AGRC: Reduce suppl...</td>\n",
       "      <td>NaN</td>\n",
       "      <td>TX:AGRC:DEC_LOSSES_SUPPLY_CHAIN</td>\n",
       "      <td>0</td>\n",
       "    </tr>\n",
       "    <tr>\n",
       "      <th>4</th>\n",
       "      <td>1003</td>\n",
       "      <td>AGRC:INC_CONSERVATION_AGRICULTURE</td>\n",
       "      <td>Singleton - Default Value - AGRC: Expand conse...</td>\n",
       "      <td>NaN</td>\n",
       "      <td>TX:AGRC:INC_CONSERVATION_AGRICULTURE</td>\n",
       "      <td>0</td>\n",
       "    </tr>\n",
       "    <tr>\n",
       "      <th>...</th>\n",
       "      <td>...</td>\n",
       "      <td>...</td>\n",
       "      <td>...</td>\n",
       "      <td>...</td>\n",
       "      <td>...</td>\n",
       "      <td>...</td>\n",
       "    </tr>\n",
       "    <tr>\n",
       "      <th>65</th>\n",
       "      <td>4006</td>\n",
       "      <td>IP:ALL</td>\n",
       "      <td>Sectoral Composite - IPPU</td>\n",
       "      <td>All (unique by transformer) IPPU transformations</td>\n",
       "      <td>TX:IPPU:DEC_CLINKER|TX:IPPU:DEC_DEMAND|TX:IPPU...</td>\n",
       "      <td>0</td>\n",
       "    </tr>\n",
       "    <tr>\n",
       "      <th>66</th>\n",
       "      <td>6000</td>\n",
       "      <td>PFLO:INC_HEALTHIER_DIETS</td>\n",
       "      <td>Singleton - Default Value - PFLO: Change diets</td>\n",
       "      <td>NaN</td>\n",
       "      <td>TX:PFLO:INC_HEALTHIER_DIETS</td>\n",
       "      <td>0</td>\n",
       "    </tr>\n",
       "    <tr>\n",
       "      <th>67</th>\n",
       "      <td>6001</td>\n",
       "      <td>PFLO:INC_IND_CCS</td>\n",
       "      <td>Singleton - Default Value - PFLO: Industrial c...</td>\n",
       "      <td>NaN</td>\n",
       "      <td>TX:PFLO:INC_IND_CCS</td>\n",
       "      <td>0</td>\n",
       "    </tr>\n",
       "    <tr>\n",
       "      <th>68</th>\n",
       "      <td>6002</td>\n",
       "      <td>PFLO:ALL</td>\n",
       "      <td>All Actions</td>\n",
       "      <td>All actions (unique by transformer)</td>\n",
       "      <td>TX:AGRC:DEC_CH4_RICE|TX:AGRC:DEC_EXPORTS|TX:AG...</td>\n",
       "      <td>0</td>\n",
       "    </tr>\n",
       "    <tr>\n",
       "      <th>69</th>\n",
       "      <td>6003</td>\n",
       "      <td>PFLO:LEP</td>\n",
       "      <td>LEP</td>\n",
       "      <td>Lower Emissions Pathway</td>\n",
       "      <td>TX:IPPU:DEC_OTHER_FCS_STRATEGY_LEP|TX:ENTC:TAR...</td>\n",
       "      <td>0</td>\n",
       "    </tr>\n",
       "  </tbody>\n",
       "</table>\n",
       "<p>70 rows × 6 columns</p>\n",
       "</div>"
      ],
      "text/plain": [
       "    strategy_id                      strategy_code  \\\n",
       "0             0                               BASE   \n",
       "1          1000                  AGRC:DEC_CH4_RICE   \n",
       "2          1001                   AGRC:DEC_EXPORTS   \n",
       "3          1002       AGRC:DEC_LOSSES_SUPPLY_CHAIN   \n",
       "4          1003  AGRC:INC_CONSERVATION_AGRICULTURE   \n",
       "..          ...                                ...   \n",
       "65         4006                             IP:ALL   \n",
       "66         6000           PFLO:INC_HEALTHIER_DIETS   \n",
       "67         6001                   PFLO:INC_IND_CCS   \n",
       "68         6002                           PFLO:ALL   \n",
       "69         6003                           PFLO:LEP   \n",
       "\n",
       "                                             strategy  \\\n",
       "0                                    Strategy TX:BASE   \n",
       "1   Singleton - Default Value - AGRC: Improve rice...   \n",
       "2   Singleton - Default Value - AGRC: Decrease Exp...   \n",
       "3   Singleton - Default Value - AGRC: Reduce suppl...   \n",
       "4   Singleton - Default Value - AGRC: Expand conse...   \n",
       "..                                                ...   \n",
       "65                          Sectoral Composite - IPPU   \n",
       "66     Singleton - Default Value - PFLO: Change diets   \n",
       "67  Singleton - Default Value - PFLO: Industrial c...   \n",
       "68                                        All Actions   \n",
       "69                                                LEP   \n",
       "\n",
       "                                         description  \\\n",
       "0                                                NaN   \n",
       "1                                                NaN   \n",
       "2                                                NaN   \n",
       "3                                                NaN   \n",
       "4                                                NaN   \n",
       "..                                               ...   \n",
       "65  All (unique by transformer) IPPU transformations   \n",
       "66                                               NaN   \n",
       "67                                               NaN   \n",
       "68               All actions (unique by transformer)   \n",
       "69                           Lower Emissions Pathway   \n",
       "\n",
       "                         transformation_specification  baseline_strategy_id  \n",
       "0                                             TX:BASE                     1  \n",
       "1                                TX:AGRC:DEC_CH4_RICE                     0  \n",
       "2                                 TX:AGRC:DEC_EXPORTS                     0  \n",
       "3                     TX:AGRC:DEC_LOSSES_SUPPLY_CHAIN                     0  \n",
       "4                TX:AGRC:INC_CONSERVATION_AGRICULTURE                     0  \n",
       "..                                                ...                   ...  \n",
       "65  TX:IPPU:DEC_CLINKER|TX:IPPU:DEC_DEMAND|TX:IPPU...                     0  \n",
       "66                        TX:PFLO:INC_HEALTHIER_DIETS                     0  \n",
       "67                                TX:PFLO:INC_IND_CCS                     0  \n",
       "68  TX:AGRC:DEC_CH4_RICE|TX:AGRC:DEC_EXPORTS|TX:AG...                     0  \n",
       "69  TX:IPPU:DEC_OTHER_FCS_STRATEGY_LEP|TX:ENTC:TAR...                     0  \n",
       "\n",
       "[70 rows x 6 columns]"
      ]
     },
     "execution_count": 29,
     "metadata": {},
     "output_type": "execute_result"
    }
   ],
   "source": [
    "strategies.attribute_table"
   ]
  },
  {
   "cell_type": "markdown",
   "id": "960373ce-9c92-4998-87e1-79563b4b7800",
   "metadata": {},
   "source": [
    "##  Build our templates\n",
    "- let's use the default variable groupings for LHS"
   ]
  },
  {
   "cell_type": "code",
   "execution_count": 30,
   "id": "fb46000c-f47a-4fcd-ae46-44bf7fab2e99",
   "metadata": {},
   "outputs": [
    {
     "name": "stdout",
     "output_type": "stream",
     "text": [
      "starting strat 6003 with input shape (36, 2260)\n",
      "strat 6003 with output shape (36, 2260)\n",
      "here = 6003\n"
     ]
    },
    {
     "data": {
      "text/plain": [
       "0"
      ]
     },
     "execution_count": 30,
     "metadata": {},
     "output_type": "execute_result"
    }
   ],
   "source": [
    "# Building excel templates, make sure to include the strategies ids in the strategies attribute as well as the baseline (0)\n",
    "df_vargroups = examples(\"variable_trajectory_group_specification\")\n",
    "\n",
    "strategies.build_strategies_to_templates(\n",
    "    df_trajgroup = df_vargroups,\n",
    "    include_simplex_group_as_trajgroup = True,\n",
    "    strategies = strategies_to_run,\n",
    ")"
   ]
  },
  {
   "cell_type": "markdown",
   "id": "dec04da7-dd23-437c-bcc2-fd63541c44f5",
   "metadata": {},
   "source": [
    "# Finally, load SISEPUEDE so that we can run it"
   ]
  },
  {
   "cell_type": "code",
   "execution_count": 31,
   "id": "749d1cae-41a3-4344-b0ff-db9d8d41a619",
   "metadata": {
    "collapsed": true,
    "jupyter": {
     "outputs_hidden": true
    }
   },
   "outputs": [
    {
     "name": "stderr",
     "output_type": "stream",
     "text": [
      "2025-06-27 10:53:44,669 - INFO - Successfully initialized SISEPUEDEFileStructure.\n",
      "2025-06-27 10:53:44,670 - WARNING - Missing key dict_dimensional_keys: key time_series not found. Tables that rely on the time_series will not have index checking.\n",
      "2025-06-27 10:53:44,671 - INFO - \tSetting export engine to 'csv'.\n",
      "2025-06-27 10:53:44,672 - WARNING - No index fields defined. Index field values will not be checked when writing to tables.\n",
      "2025-06-27 10:53:44,672 - INFO - Successfully instantiated table ANALYSIS_METADATA\n",
      "2025-06-27 10:53:44,672 - WARNING - No index fields found in ATTRIBUTE_DESIGN. Initializing index fields.\n",
      "2025-06-27 10:53:44,673 - INFO - Successfully instantiated table ATTRIBUTE_DESIGN\n",
      "2025-06-27 10:53:44,673 - WARNING - No index fields found in ATTRIBUTE_LHC_SAMPLES_EXOGENOUS_UNCERTAINTIES. Initializing index fields.\n",
      "2025-06-27 10:53:44,673 - INFO - Successfully instantiated table ATTRIBUTE_LHC_SAMPLES_EXOGENOUS_UNCERTAINTIES\n",
      "2025-06-27 10:53:44,673 - WARNING - No index fields found in ATTRIBUTE_LHC_SAMPLES_LEVER_EFFECTS. Initializing index fields.\n",
      "2025-06-27 10:53:44,674 - INFO - Successfully instantiated table ATTRIBUTE_LHC_SAMPLES_LEVER_EFFECTS\n",
      "2025-06-27 10:53:44,674 - WARNING - No index fields found in ATTRIBUTE_PRIMARY. Initializing index fields.\n",
      "2025-06-27 10:53:44,674 - INFO - Successfully instantiated table ATTRIBUTE_PRIMARY\n",
      "2025-06-27 10:53:44,674 - WARNING - No index fields found in ATTRIBUTE_STRATEGY. Initializing index fields.\n",
      "2025-06-27 10:53:44,675 - INFO - Successfully instantiated table ATTRIBUTE_STRATEGY\n",
      "2025-06-27 10:53:44,675 - WARNING - No index fields found in MODEL_BASE_INPUT_DATABASE. Initializing index fields.\n",
      "2025-06-27 10:53:44,675 - INFO - Successfully instantiated table MODEL_BASE_INPUT_DATABASE\n",
      "2025-06-27 10:53:44,676 - WARNING - No index fields found in MODEL_INPUT. Initializing index fields.\n",
      "2025-06-27 10:53:44,676 - INFO - Successfully instantiated table MODEL_INPUT\n",
      "2025-06-27 10:53:44,676 - WARNING - No index fields found in MODEL_OUTPUT. Initializing index fields.\n",
      "2025-06-27 10:53:44,676 - INFO - Successfully instantiated table MODEL_OUTPUT\n",
      "2025-06-27 10:53:44,677 - INFO - SISEPUEDEOutputDatabase successfully initialized IterativeDatabase.\n",
      "2025-06-27 10:53:44,677 - INFO - Successfully initialized database with:\n",
      "\ttype:\tcsv\n",
      "\tanalysis id:\tsisepuede_run_2025-06-27T10:53:44.254319\n",
      "\tfp_base_output:\t/Users/fabianfuentes/anaconda3/envs/ssp_bgr/lib/python3.11/site-packages/sisepuede/out/sisepuede_run_2025-06-27T10;53;44.254319/sisepuede_run_2025-06-27T10;53;44.254319_output_database\n",
      "2025-06-27 10:53:44,677 - INFO - Running SISEPUEDE under template data mode 'calibrated'.\n",
      "2025-06-27 10:53:44,677 - INFO - Initializing BaseInputDatabase\n",
      "2025-06-27 10:53:45,054 - INFO - Initializing FutureTrajectories\n",
      "2025-06-27 10:53:46,820 - INFO - Instantiating 1502 sampling units.\n",
      "2025-06-27 10:53:46,833 - INFO - Iteration 0 complete.\n",
      "2025-06-27 10:53:49,456 - INFO - Iteration 250 complete.\n",
      "2025-06-27 10:53:51,102 - INFO - Iteration 500 complete.\n",
      "2025-06-27 10:53:52,742 - INFO - Iteration 750 complete.\n",
      "2025-06-27 10:53:54,301 - INFO - Iteration 1000 complete.\n",
      "2025-06-27 10:53:56,004 - INFO - Iteration 1250 complete.\n",
      "2025-06-27 10:53:57,557 - INFO - Iteration 1500 complete.\n",
      "2025-06-27 10:53:57,565 - INFO - \t1502 sampling units complete in 10.75 seconds.\n",
      "2025-06-27 10:53:57,570 - INFO - \tFutureTrajectories for 'bulgaria' complete.\n",
      "2025-06-27 10:53:57,570 - INFO - Initializing LHSDesign\n",
      "2025-06-27 10:53:57,571 - INFO - LHSDesign.fields_factors_l reset successful.\n",
      "2025-06-27 10:53:57,571 - INFO - LHSDesign.fields_factors_x reset successful.\n",
      "2025-06-27 10:53:57,586 - INFO - \tLHSDesign for region 'bulgaria' complete.\n",
      "2025-06-27 10:53:57,586 - INFO - Generating primary keys (values of primary_id)...\n",
      "2025-06-27 10:53:57,587 - INFO - Successfully initialized SISEPUEDEExperimentalManager.\n",
      "2025-06-27 10:53:57,588 - INFO - Successfully initialized NemoMod temporary database path as /Users/fabianfuentes/anaconda3/envs/ssp_bgr/lib/python3.11/site-packages/sisepuede/tmp/nemomod_intermediate_database.sqlite.\n",
      "2025-06-27 10:53:57,588 - INFO - Set Julia directory for modules and environment to '/Users/fabianfuentes/anaconda3/envs/ssp_bgr/lib/python3.11/site-packages/sisepuede/julia'.\n",
      "2025-06-27 10:53:57,636 - INFO - Successfully initialized SISEPUEDEModels.\n",
      "2025-06-27 10:53:57,641 - INFO - Table ANALYSIS_METADATA successfully written to /Users/fabianfuentes/anaconda3/envs/ssp_bgr/lib/python3.11/site-packages/sisepuede/out/sisepuede_run_2025-06-27T10;53;44.254319/sisepuede_run_2025-06-27T10;53;44.254319_output_database/ANALYSIS_METADATA.csv.\n",
      "2025-06-27 10:53:57,642 - INFO - Table ATTRIBUTE_DESIGN successfully written to /Users/fabianfuentes/anaconda3/envs/ssp_bgr/lib/python3.11/site-packages/sisepuede/out/sisepuede_run_2025-06-27T10;53;44.254319/sisepuede_run_2025-06-27T10;53;44.254319_output_database/ATTRIBUTE_DESIGN.csv.\n",
      "2025-06-27 10:53:57,643 - INFO - Table ATTRIBUTE_STRATEGY successfully written to /Users/fabianfuentes/anaconda3/envs/ssp_bgr/lib/python3.11/site-packages/sisepuede/out/sisepuede_run_2025-06-27T10;53;44.254319/sisepuede_run_2025-06-27T10;53;44.254319_output_database/ATTRIBUTE_STRATEGY.csv.\n",
      "2025-06-27 10:53:57,712 - INFO - Table MODEL_BASE_INPUT_DATABASE successfully written to /Users/fabianfuentes/anaconda3/envs/ssp_bgr/lib/python3.11/site-packages/sisepuede/out/sisepuede_run_2025-06-27T10;53;44.254319/sisepuede_run_2025-06-27T10;53;44.254319_output_database/MODEL_BASE_INPUT_DATABASE.csv.\n"
     ]
    }
   ],
   "source": [
    "import sisepuede as si\n",
    "# timestamp_str = datetime.now().strftime(\"%Y-%m-%d %H:%M:%S\")\n",
    "ssp = si.SISEPUEDE(\n",
    "    \"calibrated\",\n",
    "    db_type = \"csv\",\n",
    "    # id_str = f\"sisepuede_run_2024-11-04T09:23:26.721580\",\n",
    "    initialize_as_dummy = not(energy_model_flag), # no connection to Julia is initialized if set to True\n",
    "    regions = [country_name],\n",
    "    strategies = strategies,\n",
    "    try_exogenous_xl_types_in_variable_specification = True,\n",
    ")"
   ]
  },
  {
   "cell_type": "code",
   "execution_count": 32,
   "id": "3e24634e-19a9-457f-909f-be5696f1ed14",
   "metadata": {
    "collapsed": true,
    "jupyter": {
     "outputs_hidden": true
    }
   },
   "outputs": [
    {
     "name": "stderr",
     "output_type": "stream",
     "text": [
      "2025-06-27 10:53:57,738 - INFO - \n",
      "***\tSTARTING REGION bulgaria\t***\n",
      "\n",
      "2025-06-27 10:53:59,371 - INFO - Trying run primary_id = 0 in region bulgaria\n",
      "2025-06-27 10:53:59,372 - INFO - Running AFOLU model\n",
      "2025-06-27 10:53:59,466 - INFO - AFOLU model run successfully completed\n",
      "2025-06-27 10:53:59,466 - INFO - Running CircularEconomy model\n",
      "2025-06-27 10:53:59,493 - INFO - CircularEconomy model run successfully completed\n",
      "2025-06-27 10:53:59,493 - INFO - Running IPPU model\n",
      "2025-06-27 10:53:59,536 - INFO - IPPU model run successfully completed\n",
      "2025-06-27 10:53:59,537 - INFO - Running Energy model (EnergyConsumption without Fugitive Emissions)\n",
      "2025-06-27 10:53:59,548 - DEBUG - Missing elasticity information found in 'project_energy_consumption_by_fuel_from_effvars': using specified future demands.\n",
      "2025-06-27 10:53:59,602 - INFO - EnergyConsumption without Fugitive Emissions model run successfully completed\n",
      "2025-06-27 10:53:59,602 - INFO - Running Energy (Fugitive Emissions)\n",
      "2025-06-27 10:53:59,615 - ERROR - Error running Fugitive Emissions from Energy model: 'NoneType' object has no attribute 'to_numpy'\n",
      "2025-06-27 10:53:59,615 - INFO - Appending Socioeconomic outputs\n",
      "2025-06-27 10:53:59,620 - INFO - Socioeconomic outputs successfully appended.\n",
      "2025-06-27 10:53:59,623 - INFO - Model run for primary_id = 0 successfully completed in 0.25 seconds (n_tries = 1).\n",
      "2025-06-27 10:53:59,635 - INFO - Trying run primary_id = 69069 in region bulgaria\n",
      "2025-06-27 10:53:59,635 - INFO - Running AFOLU model\n",
      "2025-06-27 10:53:59,730 - INFO - AFOLU model run successfully completed\n",
      "2025-06-27 10:53:59,731 - INFO - Running CircularEconomy model\n",
      "2025-06-27 10:53:59,757 - INFO - CircularEconomy model run successfully completed\n",
      "2025-06-27 10:53:59,758 - INFO - Running IPPU model\n",
      "2025-06-27 10:53:59,801 - INFO - IPPU model run successfully completed\n",
      "2025-06-27 10:53:59,802 - INFO - Running Energy model (EnergyConsumption without Fugitive Emissions)\n",
      "2025-06-27 10:53:59,813 - DEBUG - Missing elasticity information found in 'project_energy_consumption_by_fuel_from_effvars': using specified future demands.\n",
      "2025-06-27 10:53:59,868 - INFO - EnergyConsumption without Fugitive Emissions model run successfully completed\n",
      "2025-06-27 10:53:59,868 - INFO - Running Energy (Fugitive Emissions)\n",
      "2025-06-27 10:53:59,881 - ERROR - Error running Fugitive Emissions from Energy model: 'NoneType' object has no attribute 'to_numpy'\n",
      "2025-06-27 10:53:59,881 - INFO - Appending Socioeconomic outputs\n",
      "2025-06-27 10:53:59,886 - INFO - Socioeconomic outputs successfully appended.\n",
      "2025-06-27 10:53:59,888 - INFO - Model run for primary_id = 69069 successfully completed in 0.25 seconds (n_tries = 1).\n",
      "2025-06-27 10:53:59,889 - INFO - \n",
      "***\t REGION bulgaria COMPLETE\t***\n",
      "\n",
      "2025-06-27 10:53:59,932 - INFO - Table MODEL_OUTPUT successfully written to /Users/fabianfuentes/anaconda3/envs/ssp_bgr/lib/python3.11/site-packages/sisepuede/out/sisepuede_run_2025-06-27T10;53;44.254319/sisepuede_run_2025-06-27T10;53;44.254319_output_database/MODEL_OUTPUT.csv.\n",
      "2025-06-27 10:53:59,934 - INFO - Table ATTRIBUTE_PRIMARY successfully written to /Users/fabianfuentes/anaconda3/envs/ssp_bgr/lib/python3.11/site-packages/sisepuede/out/sisepuede_run_2025-06-27T10;53;44.254319/sisepuede_run_2025-06-27T10;53;44.254319_output_database/ATTRIBUTE_PRIMARY.csv.\n",
      "2025-06-27 10:53:59,996 - INFO - Table MODEL_INPUT successfully written to /Users/fabianfuentes/anaconda3/envs/ssp_bgr/lib/python3.11/site-packages/sisepuede/out/sisepuede_run_2025-06-27T10;53;44.254319/sisepuede_run_2025-06-27T10;53;44.254319_output_database/MODEL_INPUT.csv.\n"
     ]
    },
    {
     "data": {
      "text/plain": [
       "{'bulgaria': [0, 69069]}"
      ]
     },
     "execution_count": 32,
     "metadata": {},
     "output_type": "execute_result"
    }
   ],
   "source": [
    "# This runs the model, make sure you edit key_stretegy with the strategy ids you want to execute include baseline (0)\n",
    "dict_scens = {\n",
    "    ssp.key_design: [0],\n",
    "    ssp.key_future: [0],\n",
    "    ssp.key_strategy: strategies_to_run,\n",
    "}\n",
    "\n",
    "ssp.project_scenarios(\n",
    "    dict_scens,\n",
    "    save_inputs = True,\n",
    "    include_electricity_in_energy = energy_model_flag\n",
    ")"
   ]
  },
  {
   "cell_type": "code",
   "execution_count": 45,
   "id": "618f54b8-82f4-47e0-99a0-47b894039ccc",
   "metadata": {},
   "outputs": [],
   "source": [
    "# Read input and output files\n",
    "df_out = ssp.read_output(None)\n",
    "df_in = ssp.read_input(None)"
   ]
  },
  {
   "cell_type": "markdown",
   "id": "0002f12f",
   "metadata": {},
   "source": [
    "## Let's Explore the Results"
   ]
  },
  {
   "cell_type": "code",
   "execution_count": 46,
   "id": "d2de33e2",
   "metadata": {},
   "outputs": [],
   "source": [
    "def plot_field_stack(\n",
    "    df,\n",
    "    fields,\n",
    "    dict_format,\n",
    "    time_col=\"time_period\",\n",
    "    primary_id=0,\n",
    "    figsize=(18, 8),\n",
    "    legend_loc='upper right',\n",
    "    legend_bbox=(1.1, 1),\n",
    "    ylabel=\"MT Emissions CO2e\",\n",
    "    xlabel=\"Time Period\",\n",
    "    title=None,\n",
    "):\n",
    "    \"\"\"\n",
    "    Plots a stack plot of the selected fields for a given primary_id.\n",
    "\n",
    "    Args:\n",
    "        df (pd.DataFrame): DataFrame containing output data.\n",
    "        fields (list): List of column names to plot.\n",
    "        dict_format (dict): Formatting dictionary for colors.\n",
    "        time_col (str): Name of the time column.\n",
    "        primary_id (int): Value of primary_id to filter.\n",
    "        figsize (tuple): Figure size.\n",
    "        legend_loc (str): Legend location.\n",
    "        legend_bbox (tuple): Legend bbox_to_anchor.\n",
    "        ylabel (str): Y-axis label.\n",
    "        xlabel (str): X-axis label.\n",
    "        title (str): Plot title.\n",
    "    \"\"\"\n",
    "    fig, ax = plt.subplots(figsize=figsize)\n",
    "    ax.set_xlabel(xlabel)\n",
    "    ax.set_ylabel(ylabel)\n",
    "    if title:\n",
    "        ax.set_title(title)\n",
    "\n",
    "    df_plot = df[df[ssp.key_primary].isin([primary_id])]\n",
    "\n",
    "    fig, ax = spu.plot_stack(\n",
    "        df_plot,\n",
    "        fields,\n",
    "        dict_formatting=dict_format,\n",
    "        field_x=time_col,\n",
    "        figtuple=(fig, ax),\n",
    "    )\n",
    "\n",
    "    ax.legend(loc=legend_loc, bbox_to_anchor=legend_bbox, title=\"Fields\")\n",
    "    plt.show()\n"
   ]
  },
  {
   "cell_type": "code",
   "execution_count": 47,
   "id": "6d2135a7",
   "metadata": {},
   "outputs": [
    {
     "data": {
      "text/plain": [
       "dict_items([('emission_co2e_subsector_total_agrc', '#E7CB94'), ('emission_co2e_subsector_total_frst', '#31A354'), ('emission_co2e_subsector_total_lndu', '#B5CF6B'), ('emission_co2e_subsector_total_lsmm', '#E7BA52'), ('emission_co2e_subsector_total_lvst', '#BD9E39'), ('emission_co2e_subsector_total_soil', '#8C6D31'), ('emission_co2e_subsector_total_waso', '#843C39'), ('emission_co2e_subsector_total_trww', '#D6616B'), ('emission_co2e_subsector_total_ccsq', '#C6DBEF'), ('emission_co2e_subsector_total_entc', '#6B6ECF'), ('emission_co2e_subsector_total_fgtv', '#393B79'), ('emission_co2e_subsector_total_inen', '#3182BD'), ('emission_co2e_subsector_total_scoe', '#6BAED6'), ('emission_co2e_subsector_total_trns', '#756BB1'), ('emission_co2e_subsector_total_ippu', '#CE6DBD')])"
      ]
     },
     "execution_count": 47,
     "metadata": {},
     "output_type": "execute_result"
    }
   ],
   "source": [
    "matt.get_subsector_color_map().items()"
   ]
  },
  {
   "cell_type": "code",
   "execution_count": 48,
   "id": "49921fb3",
   "metadata": {},
   "outputs": [],
   "source": [
    "# Define the fields to plot and the formatting dictionary\n",
    "subsector_emission_fields = [\n",
    "'emission_co2e_subsector_total_agrc',\n",
    " 'emission_co2e_subsector_total_frst',\n",
    " 'emission_co2e_subsector_total_lndu',\n",
    " 'emission_co2e_subsector_total_lsmm',\n",
    " 'emission_co2e_subsector_total_lvst',\n",
    " 'emission_co2e_subsector_total_soil',\n",
    " 'emission_co2e_subsector_total_waso',\n",
    " 'emission_co2e_subsector_total_trww',\n",
    " 'emission_co2e_subsector_total_ippu',\n",
    " 'emission_co2e_subsector_total_entc',\n",
    " 'emission_co2e_subsector_total_fgtv']\n",
    "\n",
    "dict_format = dict(\n",
    "    (k, {\"color\": v}) for (k, v) in\n",
    "    matt.get_subsector_color_map().items()\n",
    ")"
   ]
  },
  {
   "cell_type": "code",
   "execution_count": 49,
   "id": "f1e9f4a0",
   "metadata": {},
   "outputs": [
    {
     "data": {
      "image/png": "[encoded data removed]",
      "text/plain": [
       "<Figure size 1800x800 with 1 Axes>"
      ]
     },
     "metadata": {},
     "output_type": "display_data"
    }
   ],
   "source": [
    "# Plot the emissions stack for the primary_id 0\n",
    "plot_field_stack(\n",
    "    df_out,\n",
    "    subsector_emission_fields,\n",
    "    dict_format,\n",
    "    primary_id=0,\n",
    "    title=\"Baseline\"\n",
    ")"
   ]
  },
  {
   "cell_type": "code",
   "execution_count": 50,
   "id": "d6a30f31",
   "metadata": {},
   "outputs": [
    {
     "data": {
      "image/png": "[encoded data removed]",
      "text/plain": [
       "<Figure size 1800x800 with 1 Axes>"
      ]
     },
     "metadata": {},
     "output_type": "display_data"
    }
   ],
   "source": [
    "# Plot the emissions stack for the primary_id 69069 \n",
    "plot_field_stack(\n",
    "    df_out,\n",
    "    subsector_emission_fields,\n",
    "    dict_format,\n",
    "    primary_id=69069,\n",
    "    title=\"Low Emissions Pathway (LEP)\"\n",
    ")"
   ]
  },
  {
   "cell_type": "markdown",
   "id": "5bf46be0-6ab4-4731-b922-eb21eeefef7b",
   "metadata": {},
   "source": [
    "# Export Wide File (Last Mandatory Step)"
   ]
  },
  {
   "cell_type": "code",
   "execution_count": 52,
   "id": "f8ac388d-9ff2-45fc-a49a-ad5af38a0b07",
   "metadata": {},
   "outputs": [],
   "source": [
    "df_out = ssp.read_output(None)\n",
    "df_in = ssp.read_input(None)\n",
    "\n",
    "\n",
    "all_primaries = sorted(list(df_out[ssp.key_primary].unique()))\n",
    "\n",
    "# build if unable to simply read the data frame\n",
    "if df_in is None:\n",
    "    df_in = []\n",
    "     \n",
    "    for region in ssp.regions:\n",
    "        for primary in all_primaries: \n",
    "            df_in_filt = ssp.generate_scenario_database_from_primary_key(primary)\n",
    "            df_in.append(df_in_filt.get(region))\n",
    "    \n",
    "    df_in = pd.concat(df_in, axis = 0).reset_index(drop = True)\n",
    "\n",
    "\n",
    "\n",
    "\n",
    "df_export = pd.merge(\n",
    "    df_out,\n",
    "    df_in,\n",
    "    how = \"left\",\n",
    ")\n",
    "\n",
    "\n",
    "\n",
    "# check output directory \n",
    "dir_pkg = os.path.join(\n",
    "    ssp.file_struct.dir_out, \n",
    "    f\"sisepuede_summary_results_run_{ssp.id_fs_safe}\"\n",
    ")\n",
    "os.makedirs(dir_pkg) if not os.path.exists(dir_pkg) else None\n",
    "\n",
    "\n",
    "for tab in [\"ATTRIBUTE_STRATEGY\"]:\n",
    "    table_df = ssp.database.db.read_table(tab)\n",
    "    if table_df is not None:\n",
    "        table_df.to_csv(\n",
    "            os.path.join(dir_pkg, f\"{tab}.csv\"),\n",
    "            index=None,\n",
    "            encoding=\"UTF-8\"\n",
    "        )\n",
    "    else:\n",
    "        print(f\"Warning: Table {tab} returned None.\")\n",
    "\n",
    "\n",
    "df_primary = (\n",
    "    ssp\n",
    "    .odpt_primary\n",
    "    .get_indexing_dataframe(\n",
    "        sorted(list(df_out[ssp.key_primary].unique()))\n",
    "    )\n",
    ")\n",
    "    \n",
    "df_primary.to_csv(\n",
    "    os.path.join(dir_pkg, f\"ATTRIBUTE_PRIMARY.csv\"),\n",
    "    index = None,\n",
    "    encoding = \"UTF-8\"\n",
    ")\n",
    "\n",
    "df_export.to_csv(\n",
    "    os.path.join(dir_pkg, f\"sisepuede_results_{ssp.id_fs_safe}_WIDE_INPUTS_OUTPUTS.csv\"),\n",
    "    index = None,\n",
    "    encoding = \"UTF-8\"\n",
    ")"
   ]
  },
  {
   "cell_type": "code",
   "execution_count": 53,
   "id": "4bc34b5e",
   "metadata": {},
   "outputs": [
    {
     "data": {
      "text/plain": [
       "'/Users/fabianfuentes/anaconda3/envs/ssp_bgr/lib/python3.11/site-packages/sisepuede/out'"
      ]
     },
     "execution_count": 53,
     "metadata": {},
     "output_type": "execute_result"
    }
   ],
   "source": [
    "# Getting the directory where the outputs are stored\n",
    "ssp.file_struct.dir_out"
   ]
  },
  {
   "cell_type": "code",
   "execution_count": 54,
   "id": "e3626cd0",
   "metadata": {},
   "outputs": [],
   "source": [
    "df_primary.to_csv(\n",
    "    os.path.join(dir_out, f\"ATTRIBUTE_PRIMARY.csv\"),\n",
    "    index = None,\n",
    "    encoding = \"UTF-8\"\n",
    ")\n",
    "\n",
    "df_export.to_csv(\n",
    "    os.path.join(dir_out, f\"sisepuede_results_sisepuede_mongolia_run.csv\"),\n",
    "    index = None,\n",
    "    encoding = \"UTF-8\"\n",
    ")\n",
    "\n",
    "for tab in [\"ATTRIBUTE_STRATEGY\"]:\n",
    "    table_df = ssp.database.db.read_table(tab)\n",
    "    if table_df is not None:\n",
    "        table_df.to_csv(\n",
    "            os.path.join(dir_out, f\"{tab}.csv\"),\n",
    "            index=None,\n",
    "            encoding=\"UTF-8\"\n",
    "        )\n",
    "    else:\n",
    "        print(f\"Warning: Table {tab} returned None.\")"
   ]
  }
 ],
 "metadata": {
  "kernelspec": {
   "display_name": "ssp_bgr",
   "language": "python",
   "name": "python3"
  },
  "language_info": {
   "codemirror_mode": {
    "name": "ipython",
    "version": 3
   },
   "file_extension": ".py",
   "mimetype": "text/x-python",
   "name": "python",
   "nbconvert_exporter": "python",
   "pygments_lexer": "ipython3",
   "version": "3.11.13"
  }
 },
 "nbformat": 4,
 "nbformat_minor": 5
}
